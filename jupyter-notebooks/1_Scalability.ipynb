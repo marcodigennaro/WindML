{
 "cells": [
  {
   "cell_type": "code",
   "execution_count": 1,
   "id": "2761799d-8787-4adf-98f6-fb5ce6023491",
   "metadata": {},
   "outputs": [
    {
     "name": "stdout",
     "output_type": "stream",
     "text": [
      "time: 273 µs (started: 2024-04-11 15:31:03 +02:00)\n"
     ]
    }
   ],
   "source": [
    "from pathlib import Path\n",
    "import warnings\n",
    "warnings.simplefilter(action='ignore', category=FutureWarning)\n",
    "\n",
    "%load_ext autotime\n"
   ]
  },
  {
   "cell_type": "markdown",
   "id": "a42d1963-5698-4de9-a199-a92dc5a67de3",
   "metadata": {},
   "source": [
    "# Check 4 different python packages\n",
    "\n",
    "The scalability of the developed models was assessed by evaluating computational resources required as dataset size increases for four different python libraries, namely: Pandas, Dask, Vaex and Modin.\n",
    "\n",
    "The results are shown below (test results from Processor: 3,1 GHz Dual-Core Intel Core i5 with Memory: 8 GB 2133 MHz)\n",
    "\n",
    "| File       | Size (MB) |\n",
    "|------------|-----------|\n",
    "| R80736.csv | 51.41     |\n",
    "| R80721.csv | 51.20     |\n",
    "| R80790.csv | 51.03     |\n",
    "| R80711.csv | 51.68     |\n",
    "\n",
    "| Library | Time taken (sec) | Max memory usage (MB) |\n",
    "|---------|------------------|-----------------------|\n",
    "| pandas  | 6.13             | 735.23 MB             |\n",
    "| dask    | 18.38            | 603.20 MB             |\n",
    "| vaex    | 3.11             | 268.40 MB             |\n",
    "| modin   | 11.60            | 245.38 MB             |\n",
    "\n",
    "\n",
    "\n",
    "**Conclusion**:\n",
    "  - Time Efficiency: Vaex and Pandas show best results,\n",
    "  - Memory Efficiency: Modin and Vaex show best results,\n",
    "  - Ease of Use and Integration: Pandas is more available."
   ]
  },
  {
   "cell_type": "code",
   "execution_count": 2,
   "id": "cabfad46-63a3-457d-9774-1e1ccdfabe72",
   "metadata": {
    "scrolled": true
   },
   "outputs": [
    {
     "name": "stdout",
     "output_type": "stream",
     "text": [
      "Found 4 CSV files.\n",
      "File: R80736.csv, Size: 51.41 MB\n",
      "File: R80721.csv, Size: 51.20 MB\n",
      "File: R80790.csv, Size: 51.03 MB\n",
      "File: R80711.csv, Size: 51.68 MB\n",
      "pandas\n",
      "Library: pandas, Time taken: 6.81 seconds, Max memory usage: 620.06 MB\n",
      "dask\n"
     ]
    },
    {
     "name": "stderr",
     "output_type": "stream",
     "text": [
      "/Users/marcodigennaro/miniconda3/envs/windml/lib/python3.10/site-packages/dask/dataframe/_pyarrow_compat.py:17: FutureWarning: Minimal version of pyarrow will soon be increased to 14.0.1. You are using 11.0.0. Please consider upgrading.\n",
      "  warnings.warn(\n",
      "/Users/marcodigennaro/miniconda3/envs/windml/lib/python3.10/site-packages/dask/dataframe/_pyarrow_compat.py:17: FutureWarning: Minimal version of pyarrow will soon be increased to 14.0.1. You are using 11.0.0. Please consider upgrading.\n",
      "  warnings.warn(\n",
      "/Users/marcodigennaro/miniconda3/envs/windml/lib/python3.10/site-packages/dask/dataframe/_pyarrow_compat.py:17: FutureWarning: Minimal version of pyarrow will soon be increased to 14.0.1. You are using 11.0.0. Please consider upgrading.\n",
      "  warnings.warn(\n",
      "/Users/marcodigennaro/miniconda3/envs/windml/lib/python3.10/site-packages/dask/dataframe/_pyarrow_compat.py:17: FutureWarning: Minimal version of pyarrow will soon be increased to 14.0.1. You are using 11.0.0. Please consider upgrading.\n",
      "  warnings.warn(\n"
     ]
    },
    {
     "name": "stdout",
     "output_type": "stream",
     "text": [
      "Library: dask, Time taken: 14.98 seconds, Max memory usage: 414.90 MB\n",
      "vaex\n",
      "Library: vaex, Time taken: 5.82 seconds, Max memory usage: 224.61 MB\n",
      "modin\n",
      "Library: modin, Time taken: 8.04 seconds, Max memory usage: 124.66 MB\n",
      "time: 1min 6s (started: 2024-04-11 15:31:03 +02:00)\n"
     ]
    }
   ],
   "source": [
    "data_dir = Path.cwd().parent.parent / 'Data Turbines - enriched'\n",
    "from windml.core.functions import compare_data_libraries\n",
    "\n",
    "compare_data_libraries(data_dir)"
   ]
  },
  {
   "cell_type": "code",
   "execution_count": null,
   "id": "41709ada-ab0d-4294-af53-e49ccc20724b",
   "metadata": {},
   "outputs": [],
   "source": []
  }
 ],
 "metadata": {
  "kernelspec": {
   "display_name": "Python 3 (ipykernel)",
   "language": "python",
   "name": "python3"
  },
  "language_info": {
   "codemirror_mode": {
    "name": "ipython",
    "version": 3
   },
   "file_extension": ".py",
   "mimetype": "text/x-python",
   "name": "python",
   "nbconvert_exporter": "python",
   "pygments_lexer": "ipython3",
   "version": "3.10.13"
  }
 },
 "nbformat": 4,
 "nbformat_minor": 5
}
