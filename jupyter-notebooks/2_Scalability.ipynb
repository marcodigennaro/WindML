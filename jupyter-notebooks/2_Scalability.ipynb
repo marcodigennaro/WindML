{
 "cells": [
  {
   "cell_type": "markdown",
   "id": "a42d1963-5698-4de9-a199-a92dc5a67de3",
   "metadata": {},
   "source": [
    "# Scalability\n",
    "\n",
    "### Check 4 different python packages\n",
    "\n",
    "The scalability of the developed models was assessed by evaluating computational resources required as dataset size increases for four different python libraries, namely: Pandas, Dask, Vaex and Modin.\n",
    "\n",
    "The results are shown below (test results from Processor: 3,1 GHz Dual-Core Intel Core i5 with Memory: 8 GB 2133 MHz)\n",
    "\n",
    "| File       | Size (MB) |\n",
    "|------------|-----------|\n",
    "| R80736.csv | 51.41     |\n",
    "| R80721.csv | 51.20     |\n",
    "| R80790.csv | 51.03     |\n",
    "| R80711.csv | 51.68     |\n",
    "\n",
    "| Library | Time taken (sec) | Max memory usage (MB) |\n",
    "|---------|------------------|-----------------------|\n",
    "| pandas  | 6.13             | 735.23 MB             |\n",
    "| dask    | 18.38            | 603.20 MB             |\n",
    "| vaex    | 3.11             | 268.40 MB             |\n",
    "| modin   | 11.60            | 245.38 MB             |\n",
    "\n",
    "\n",
    "\n",
    "**Conclusion**:\n",
    "  - Time Efficiency: Vaex and Pandas show best results,\n",
    "  - Memory Efficiency: Modin and Vaex show best results,\n",
    "  - Ease of Use and Integration: Pandas is more available."
   ]
  },
  {
   "cell_type": "code",
   "execution_count": 1,
   "id": "2761799d-8787-4adf-98f6-fb5ce6023491",
   "metadata": {
    "execution": {
     "iopub.execute_input": "2024-04-19T13:53:09.050198Z",
     "iopub.status.busy": "2024-04-19T13:53:09.048979Z",
     "iopub.status.idle": "2024-04-19T13:53:09.066904Z",
     "shell.execute_reply": "2024-04-19T13:53:09.064802Z",
     "shell.execute_reply.started": "2024-04-19T13:53:09.050124Z"
    }
   },
   "outputs": [],
   "source": [
    "from pathlib import Path\n",
    "import warnings\n",
    "warnings.simplefilter(action='ignore', category=FutureWarning)"
   ]
  },
  {
   "cell_type": "code",
   "execution_count": 2,
   "id": "cabfad46-63a3-457d-9774-1e1ccdfabe72",
   "metadata": {
    "execution": {
     "iopub.execute_input": "2024-04-19T13:53:09.069408Z",
     "iopub.status.busy": "2024-04-19T13:53:09.068650Z",
     "iopub.status.idle": "2024-04-19T13:53:11.514881Z",
     "shell.execute_reply": "2024-04-19T13:53:11.513061Z",
     "shell.execute_reply.started": "2024-04-19T13:53:09.069367Z"
    },
    "scrolled": true
   },
   "outputs": [
    {
     "ename": "FileNotFoundError",
     "evalue": "[Errno 2] No such file or directory: '/home/marco/Desktop/ATOM/Data Turbines - enriched'",
     "output_type": "error",
     "traceback": [
      "\u001b[0;31m---------------------------------------------------------------------------\u001b[0m",
      "\u001b[0;31mFileNotFoundError\u001b[0m                         Traceback (most recent call last)",
      "Cell \u001b[0;32mIn[2], line 4\u001b[0m\n\u001b[1;32m      1\u001b[0m data_dir \u001b[38;5;241m=\u001b[39m Path\u001b[38;5;241m.\u001b[39mcwd()\u001b[38;5;241m.\u001b[39mparent\u001b[38;5;241m.\u001b[39mparent \u001b[38;5;241m/\u001b[39m \u001b[38;5;124m'\u001b[39m\u001b[38;5;124mData Turbines - enriched\u001b[39m\u001b[38;5;124m'\u001b[39m\n\u001b[1;32m      2\u001b[0m \u001b[38;5;28;01mfrom\u001b[39;00m \u001b[38;5;21;01mwindml\u001b[39;00m\u001b[38;5;21;01m.\u001b[39;00m\u001b[38;5;21;01mcore\u001b[39;00m\u001b[38;5;21;01m.\u001b[39;00m\u001b[38;5;21;01mfunctions\u001b[39;00m \u001b[38;5;28;01mimport\u001b[39;00m compare_data_libraries\n\u001b[0;32m----> 4\u001b[0m \u001b[43mcompare_data_libraries\u001b[49m\u001b[43m(\u001b[49m\u001b[43mdata_dir\u001b[49m\u001b[43m)\u001b[49m\n",
      "File \u001b[0;32m~/Desktop/ATOM/windml/windml/core/functions.py:44\u001b[0m, in \u001b[0;36mcompare_data_libraries\u001b[0;34m(folder_path)\u001b[0m\n\u001b[1;32m     41\u001b[0m dtypes \u001b[38;5;241m=\u001b[39m {\u001b[38;5;124m'\u001b[39m\u001b[38;5;124mDate_time\u001b[39m\u001b[38;5;124m'\u001b[39m: \u001b[38;5;124m'\u001b[39m\u001b[38;5;124mobject\u001b[39m\u001b[38;5;124m'\u001b[39m, \u001b[38;5;124m'\u001b[39m\u001b[38;5;124mDate_time_nr\u001b[39m\u001b[38;5;124m'\u001b[39m: \u001b[38;5;124m'\u001b[39m\u001b[38;5;124mint64\u001b[39m\u001b[38;5;124m'\u001b[39m, \u001b[38;5;124m'\u001b[39m\u001b[38;5;124mWind_turbine_name\u001b[39m\u001b[38;5;124m'\u001b[39m: \u001b[38;5;124m'\u001b[39m\u001b[38;5;124mobject\u001b[39m\u001b[38;5;124m'\u001b[39m}\n\u001b[1;32m     43\u001b[0m \u001b[38;5;66;03m# Gather CSV files\u001b[39;00m\n\u001b[0;32m---> 44\u001b[0m csv_files \u001b[38;5;241m=\u001b[39m [os\u001b[38;5;241m.\u001b[39mpath\u001b[38;5;241m.\u001b[39mjoin(folder_path, file) \u001b[38;5;28;01mfor\u001b[39;00m file \u001b[38;5;129;01min\u001b[39;00m \u001b[43mos\u001b[49m\u001b[38;5;241;43m.\u001b[39;49m\u001b[43mlistdir\u001b[49m\u001b[43m(\u001b[49m\u001b[43mfolder_path\u001b[49m\u001b[43m)\u001b[49m \u001b[38;5;28;01mif\u001b[39;00m\n\u001b[1;32m     45\u001b[0m              file\u001b[38;5;241m.\u001b[39mendswith(\u001b[38;5;124m'\u001b[39m\u001b[38;5;124m.csv\u001b[39m\u001b[38;5;124m'\u001b[39m) \u001b[38;5;129;01mand\u001b[39;00m file\u001b[38;5;241m.\u001b[39mstartswith(\u001b[38;5;124m'\u001b[39m\u001b[38;5;124mR\u001b[39m\u001b[38;5;124m'\u001b[39m)]\n\u001b[1;32m     47\u001b[0m \u001b[38;5;66;03m# Log file details\u001b[39;00m\n\u001b[1;32m     48\u001b[0m \u001b[38;5;28mprint\u001b[39m(\u001b[38;5;124mf\u001b[39m\u001b[38;5;124m\"\u001b[39m\u001b[38;5;124mFound \u001b[39m\u001b[38;5;132;01m{\u001b[39;00m\u001b[38;5;28mlen\u001b[39m(csv_files)\u001b[38;5;132;01m}\u001b[39;00m\u001b[38;5;124m CSV files.\u001b[39m\u001b[38;5;124m\"\u001b[39m)\n",
      "\u001b[0;31mFileNotFoundError\u001b[0m: [Errno 2] No such file or directory: '/home/marco/Desktop/ATOM/Data Turbines - enriched'"
     ]
    }
   ],
   "source": [
    "data_dir = Path.cwd().parent.parent / 'Data Turbines - enriched'\n",
    "from windml.core.functions import compare_data_libraries\n",
    "\n",
    "compare_data_libraries(data_dir)"
   ]
  },
  {
   "cell_type": "code",
   "execution_count": null,
   "id": "5c6b2e35-1d2a-4512-af03-203d9c197420",
   "metadata": {},
   "outputs": [],
   "source": []
  }
 ],
 "metadata": {
  "kernelspec": {
   "display_name": "Python 3 (ipykernel)",
   "language": "python",
   "name": "python3"
  },
  "language_info": {
   "codemirror_mode": {
    "name": "ipython",
    "version": 3
   },
   "file_extension": ".py",
   "mimetype": "text/x-python",
   "name": "python",
   "nbconvert_exporter": "python",
   "pygments_lexer": "ipython3",
   "version": "3.10.12"
  }
 },
 "nbformat": 4,
 "nbformat_minor": 5
}
