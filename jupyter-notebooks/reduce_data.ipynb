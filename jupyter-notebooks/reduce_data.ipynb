{
 "cells": [
  {
   "cell_type": "markdown",
   "id": "548d1a11-686d-4691-9e76-a25015bcee9e",
   "metadata": {},
   "source": [
    "# Remove columns"
   ]
  },
  {
   "cell_type": "code",
   "execution_count": 1,
   "id": "c13244b9-b555-431a-91de-14de821004f6",
   "metadata": {
    "execution": {
     "iopub.execute_input": "2024-04-19T14:20:30.814851Z",
     "iopub.status.busy": "2024-04-19T14:20:30.814345Z",
     "iopub.status.idle": "2024-04-19T14:20:32.808951Z",
     "shell.execute_reply": "2024-04-19T14:20:32.808186Z",
     "shell.execute_reply.started": "2024-04-19T14:20:30.814813Z"
    }
   },
   "outputs": [],
   "source": [
    "from pathlib import Path\n",
    "import pandas as pd\n",
    "import seaborn as sns\n",
    "import matplotlib.pyplot as plt \n",
    "\n",
    "import warnings\n",
    "warnings.simplefilter(action='ignore', category=FutureWarning)\n",
    "\n",
    "from windml.core.functions import load_one"
   ]
  },
  {
   "cell_type": "code",
   "execution_count": 16,
   "id": "94135b0a-b6f2-4b38-ad5c-a3355dd0d8d1",
   "metadata": {
    "execution": {
     "iopub.execute_input": "2024-04-19T14:21:55.029925Z",
     "iopub.status.busy": "2024-04-19T14:21:55.028382Z",
     "iopub.status.idle": "2024-04-19T14:21:55.036333Z",
     "shell.execute_reply": "2024-04-19T14:21:55.034662Z",
     "shell.execute_reply.started": "2024-04-19T14:21:55.029859Z"
    }
   },
   "outputs": [],
   "source": [
    "data_path = Path.cwd().parent/ 'windml' / 'data'"
   ]
  },
  {
   "cell_type": "code",
   "execution_count": 17,
   "id": "f1b6063c-18c4-4ce7-ab58-55624b5d14a4",
   "metadata": {
    "execution": {
     "iopub.execute_input": "2024-04-19T14:21:55.366316Z",
     "iopub.status.busy": "2024-04-19T14:21:55.365342Z",
     "iopub.status.idle": "2024-04-19T14:21:55.379925Z",
     "shell.execute_reply": "2024-04-19T14:21:55.377714Z",
     "shell.execute_reply.started": "2024-04-19T14:21:55.366234Z"
    }
   },
   "outputs": [
    {
     "data": {
      "text/plain": [
       "PosixPath('/home/marco/Desktop/ATOM/windml/windml/data')"
      ]
     },
     "execution_count": 17,
     "metadata": {},
     "output_type": "execute_result"
    }
   ],
   "source": [
    "data_path"
   ]
  },
  {
   "cell_type": "code",
   "execution_count": 20,
   "id": "1b5879e4-6419-4ccd-84d3-d43d4358f340",
   "metadata": {
    "execution": {
     "iopub.execute_input": "2024-04-19T14:22:43.608807Z",
     "iopub.status.busy": "2024-04-19T14:22:43.608017Z",
     "iopub.status.idle": "2024-04-19T14:22:44.449259Z",
     "shell.execute_reply": "2024-04-19T14:22:44.448197Z",
     "shell.execute_reply.started": "2024-04-19T14:22:43.608774Z"
    }
   },
   "outputs": [],
   "source": [
    "turbine_name = 'R80711'\n",
    "turbine_csv_file = Path(data_path, f'{turbine_name}.csv')\n",
    "\n",
    "df = pd.read_csv(turbine_csv_file)\n",
    "#df = df.sample(5000)"
   ]
  },
  {
   "cell_type": "code",
   "execution_count": 22,
   "id": "cbf80274-6341-4ebd-bb44-f26983ef67ff",
   "metadata": {
    "execution": {
     "iopub.execute_input": "2024-04-19T14:22:56.623350Z",
     "iopub.status.busy": "2024-04-19T14:22:56.622350Z",
     "iopub.status.idle": "2024-04-19T14:22:56.631267Z",
     "shell.execute_reply": "2024-04-19T14:22:56.630123Z",
     "shell.execute_reply.started": "2024-04-19T14:22:56.623308Z"
    }
   },
   "outputs": [
    {
     "data": {
      "text/plain": [
       "Index(['Date_time', 'Date_time_nr', 'Wind_turbine_name', 'Ba_avg', 'P_avg',\n",
       "       'Q_avg', 'Ya_avg', 'Yt_avg', 'Ws1_avg', 'Ws2_avg', 'Ws_avg', 'Wa_avg',\n",
       "       'Va_avg', 'Ot_avg', 'Rs_avg', 'Rbt_avg', 'Rm_avg', 'temp', 'pressure',\n",
       "       'humidity', 'wind_speed', 'wind_deg', 'rain_1h', 'snow_1h'],\n",
       "      dtype='object')"
      ]
     },
     "execution_count": 22,
     "metadata": {},
     "output_type": "execute_result"
    }
   ],
   "source": [
    "df.columns"
   ]
  },
  {
   "cell_type": "code",
   "execution_count": 24,
   "id": "c36c26a9-01aa-401b-ae21-20faf564af73",
   "metadata": {
    "execution": {
     "iopub.execute_input": "2024-04-19T14:23:31.487376Z",
     "iopub.status.busy": "2024-04-19T14:23:31.486863Z",
     "iopub.status.idle": "2024-04-19T14:23:35.289333Z",
     "shell.execute_reply": "2024-04-19T14:23:35.288569Z",
     "shell.execute_reply.started": "2024-04-19T14:23:31.487334Z"
    }
   },
   "outputs": [],
   "source": [
    "df.drop(columns=[ 'rain_1h', 'snow_1h'], inplace=True)\n",
    "df.to_csv( f'{turbine_name}.csv')\n"
   ]
  },
  {
   "cell_type": "code",
   "execution_count": null,
   "id": "21f4519a-b471-4a6a-831e-975de8fe60a2",
   "metadata": {},
   "outputs": [],
   "source": []
  }
 ],
 "metadata": {
  "kernelspec": {
   "display_name": "Python 3 (ipykernel)",
   "language": "python",
   "name": "python3"
  },
  "language_info": {
   "codemirror_mode": {
    "name": "ipython",
    "version": 3
   },
   "file_extension": ".py",
   "mimetype": "text/x-python",
   "name": "python",
   "nbconvert_exporter": "python",
   "pygments_lexer": "ipython3",
   "version": "3.10.12"
  }
 },
 "nbformat": 4,
 "nbformat_minor": 5
}
