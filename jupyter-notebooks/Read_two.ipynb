{
 "cells": [
  {
   "cell_type": "code",
   "execution_count": 1,
   "id": "a03002bd-a4e4-40ae-baf0-507ebeb09dfc",
   "metadata": {},
   "outputs": [
    {
     "name": "stdout",
     "output_type": "stream",
     "text": [
      "time: 409 µs (started: 2024-04-11 14:51:36 +02:00)\n"
     ]
    }
   ],
   "source": [
    "from pathlib import Path\n",
    "import pandas as pd\n",
    "import seaborn as sns\n",
    "import matplotlib.pyplot as plt \n",
    "\n",
    "import warnings\n",
    "warnings.simplefilter(action='ignore', category=FutureWarning)\n",
    "\n",
    "%load_ext autotime"
   ]
  },
  {
   "cell_type": "markdown",
   "id": "f2766702-8c73-4673-8290-5d195f7df16d",
   "metadata": {},
   "source": [
    "# PART 0 - check pandas vs dask for large files"
   ]
  },
  {
   "cell_type": "code",
   "execution_count": 2,
   "id": "eed081ca-9f02-449f-8d45-28a198823de3",
   "metadata": {},
   "outputs": [
    {
     "ename": "ModuleNotFoundError",
     "evalue": "No module named 'windml'",
     "output_type": "error",
     "traceback": [
      "\u001b[0;31m---------------------------------------------------------------------------\u001b[0m",
      "\u001b[0;31mModuleNotFoundError\u001b[0m                       Traceback (most recent call last)",
      "Cell \u001b[0;32mIn[2], line 2\u001b[0m\n\u001b[1;32m      1\u001b[0m data_dir \u001b[38;5;241m=\u001b[39m Path\u001b[38;5;241m.\u001b[39mcwd()\u001b[38;5;241m.\u001b[39mparent \u001b[38;5;241m/\u001b[39m \u001b[38;5;124m'\u001b[39m\u001b[38;5;124mData Turbines - enriched\u001b[39m\u001b[38;5;124m'\u001b[39m\n\u001b[0;32m----> 2\u001b[0m \u001b[38;5;28;01mfrom\u001b[39;00m \u001b[38;5;21;01mwindml\u001b[39;00m\u001b[38;5;21;01m.\u001b[39;00m\u001b[38;5;21;01mcore\u001b[39;00m\u001b[38;5;21;01m.\u001b[39;00m\u001b[38;5;21;01mfunctions\u001b[39;00m \u001b[38;5;28;01mimport\u001b[39;00m read_and_concatenate_csv\n\u001b[1;32m      4\u001b[0m read_and_concatenate_csv(data_dir)\n",
      "\u001b[0;31mModuleNotFoundError\u001b[0m: No module named 'windml'"
     ]
    },
    {
     "name": "stdout",
     "output_type": "stream",
     "text": [
      "time: 2.2 s (started: 2024-04-11 14:51:37 +02:00)\n"
     ]
    }
   ],
   "source": [
    "data_dir = Path.cwd().parent.parent / 'Data Turbines - enriched'\n",
    "from windml.core.functions import read_and_concatenate_csv\n",
    "\n",
    "read_and_concatenate_csv(data_dir)\n"
   ]
  },
  {
   "cell_type": "markdown",
   "id": "f765fa45-eca7-439e-ab6d-f1dc7655076c",
   "metadata": {},
   "source": [
    "# PART 1 - Read and Clean data, check for missing values and outliers\n",
    "\n",
    "Four databases are provided, each corresponding to a Senvion MM82 wind turbine with nominal Rated power of 2050 kW.\n",
    "\n",
    "Namely R80711, R80736, R80721 and R80790.\n",
    "Choose your turbine dataset."
   ]
  },
  {
   "cell_type": "code",
   "execution_count": null,
   "id": "82ef1a77-948c-489a-a83f-da17860c9281",
   "metadata": {},
   "outputs": [],
   "source": [
    "data_dir = Path.cwd().parent / 'Data Turbines - enriched'\n",
    "turbine_name = 'R80711'\n",
    "turbine_csv_file = Path(data_dir, f'{turbine_name}.csv')\n",
    "\n",
    "from windml.core.functions import load_csv_and_measure\n",
    "\n",
    "load_csv_and_measure(turbine_csv_file)\n",
    "df = pd.read_csv(\n",
    "    turbine_csv_file, \n",
    "\n",
    ")\n",
    "\n",
    "df = df.sample(5000)"
   ]
  },
  {
   "cell_type": "code",
   "execution_count": null,
   "id": "434a19de-0189-4f8b-a2f1-a9daa9d35d46",
   "metadata": {},
   "outputs": [],
   "source": [
    "df.dtypes"
   ]
  },
  {
   "cell_type": "markdown",
   "id": "065e8f88-6225-4ce5-8487-d0d8fa277c2d",
   "metadata": {},
   "source": [
    "## 1.1 Check for emtpy features\n",
    "\n",
    "Preliminary check to locate and remove empty columns. \n",
    "**Conclusion** There is no empty column, so we can keep all features."
   ]
  },
  {
   "cell_type": "code",
   "execution_count": null,
   "id": "968b42fd-31c0-4e77-b6d9-14c9f31538df",
   "metadata": {},
   "outputs": [],
   "source": [
    "plt.figure(figsize=(20,3))\n",
    "plt.plot(df.isnull().sum(axis = 0))\n",
    "plt.xticks(rotation=90)\n",
    "plt.margins(x=0)\n",
    "plt.show()"
   ]
  },
  {
   "cell_type": "markdown",
   "id": "2f3a2d40-551a-46a9-acd8-57aa53a8ae50",
   "metadata": {},
   "source": [
    "## 1.2 Check uniformity of Database with respect to month, day and hour\n",
    "\n",
    "Preliminary check to analyse the distribution and uniformity of data over time. Often database could be incomplete or sparse. **Conclusion** The distribution of data is uniform."
   ]
  },
  {
   "cell_type": "code",
   "execution_count": null,
   "id": "0e616d70-71a2-458d-ae0a-fe19b5b9735c",
   "metadata": {},
   "outputs": [],
   "source": [
    "# Extract the year\n",
    "df['Year'] = pd.to_datetime(df['Date_time'], utc=True).dt.year\n",
    "\n",
    "# Extract the month\n",
    "df['Month'] = pd.to_datetime(df['Date_time'], utc=True).dt.month\n",
    "\n",
    "# Extract day of the week (Monday=0, Sunday=6)\n",
    "df['DayOfWeek'] = pd.to_datetime(df['Date_time'], utc=True).dt.dayofweek\n",
    "\n",
    "# Extract time of day\n",
    "df['HourOfDay'] = pd.to_datetime(df['Date_time'], utc=True).dt.hour\n",
    "\n",
    "# Visualization: Distribution of day of the week\n",
    "fig, ax = plt.subplots(2, 2, figsize=(10, 5))\n",
    "sns.countplot(x='Year', data=df, ax=ax[0,0])\n",
    "sns.countplot(x='Month', data=df, ax=ax[0,1])\n",
    "sns.countplot(x='DayOfWeek', data=df, ax=ax[1,0])\n",
    "sns.countplot(x='HourOfDay', data=df, ax=ax[1,1])\n",
    "\n",
    "plt.tight_layout()"
   ]
  },
  {
   "cell_type": "markdown",
   "id": "26f4ac07-68e1-4cf7-aad8-81924a031217",
   "metadata": {},
   "source": [
    "## 1.3 Exploratory Data Analysis (EDA)\n",
    "\n",
    "Check distribution of numerical (non time-related) database entries for visual outliers detection."
   ]
  },
  {
   "cell_type": "code",
   "execution_count": null,
   "id": "a93d9a4d-67dd-4b41-95a4-bbc1128fd7a5",
   "metadata": {},
   "outputs": [],
   "source": [
    "# Plot distribution for each column\n",
    "# Let us exclude columns which are not relevant:\n",
    "#   - 'Date_time', \n",
    "#   - 'Date_time_nr',\n",
    "#   - 'Wind_turbine_name',\n",
    "#   - 'Year',\n",
    "#   - 'Month', \n",
    "#   - 'DayOfWeek', \n",
    "#   - 'HourOfDay'\n",
    "\n",
    "tmp_df = df.drop(columns=['Date_time', 'Date_time_nr', 'Wind_turbine_name', \n",
    "                          'Year', 'Month', 'DayOfWeek', 'HourOfDay'])\n",
    "\n",
    "ncols = 6\n",
    "nrows = 4\n",
    "\n",
    "fig, ax = plt.subplots(ncols, nrows, figsize=(16, 8))\n",
    "\n",
    "for cc, column in enumerate(tmp_df.columns):\n",
    "\n",
    "    cc_ax = ax[cc//nrows, cc%nrows]\n",
    "    cc_ax.text(x=0.05, y=.75, s=column, fontsize=12, transform=cc_ax.transAxes)\n",
    "    \n",
    "    # For categorical data\n",
    "    if tmp_df[column].dtype == 'object':  \n",
    "        sns.countplot(x=column, data=df, ax=cc_ax)\n",
    "\n",
    "    # For numerical data\n",
    "    else:  \n",
    "        sns.histplot(tmp_df[column], kde=True, ax=cc_ax)\n"
   ]
  },
  {
   "cell_type": "markdown",
   "id": "6b2c650f-b904-406f-91dc-d89eba295087",
   "metadata": {},
   "source": [
    "## 1.4 Find univariate outliers using box plots\n",
    "\n",
    "### Pitch_angle (Ba_avg)\n",
    "The pitch angle refers to the angle between the plane of the rotor blade and the oncoming wind. It's a critical parameter for controlling the operation and efficiency of wind turbines. Its values are typically of a few degrees, although at high wind speeds, the pitch angle is increased to reduce the rotor speed and prevent damage to the turbine. \n",
    "\n",
    "**Conclusions**\n",
    "- Discretization issue with 'Ba_avg' -> introducing 'rounded_Ba_avg'\n",
    "- Removing outliers (-5 < Ba < 5)"
   ]
  },
  {
   "cell_type": "code",
   "execution_count": null,
   "id": "7a65155d-1c34-445c-a88b-0bd7393fa22c",
   "metadata": {},
   "outputs": [],
   "source": [
    "import plotly.express as px\n",
    "\n",
    "px.box(df, y=\"Ba_avg\")"
   ]
  },
  {
   "cell_type": "code",
   "execution_count": null,
   "id": "3713baff-1cbc-4452-bf0e-22d7c4ef6195",
   "metadata": {},
   "outputs": [],
   "source": [
    "# Remove all entries with too large pitching angle ( -5 < Ba < 5 )\n",
    "\n",
    "copy_df = df.loc[ ( df.Ba_avg > -5. ) & ( df.Ba_avg < 5. ) ]\n",
    "sns.histplot( df.Ba_avg, kde=True, color='skyblue', bins=1000 )\n",
    "print(f'Removing {(1-len(copy_df)/len(df))*100:2.2f}% of the lines,')\n",
    "print(f'{len(df)-len(copy_df)} rows were removed')"
   ]
  },
  {
   "cell_type": "code",
   "execution_count": null,
   "id": "1fe8ca60-094c-4332-ba27-5de5948ff414",
   "metadata": {},
   "outputs": [],
   "source": [
    "# Discretization issue with Ba_avg\n",
    "df['Ba_avg'].value_counts()"
   ]
  },
  {
   "cell_type": "code",
   "execution_count": null,
   "id": "08d90b09-4b23-4306-9273-f10b2bce1393",
   "metadata": {},
   "outputs": [],
   "source": [
    "# Round Ba\n",
    "num_decimal_places = 6\n",
    "df['rounded_Ba_avg'] = df['Ba_avg'].round(num_decimal_places)\n",
    "df['rounded_Ba_avg'].value_counts()\n",
    "\n",
    "sns.histplot( df.rounded_Ba_avg, kde=True, color='skyblue', bins=1000 )"
   ]
  },
  {
   "cell_type": "markdown",
   "id": "9164dfc9-e85d-4090-aab8-8c1cb47aff7b",
   "metadata": {},
   "source": [
    "# PART 2. Time Series Analysis\n",
    "\n",
    "### 2.1 Calculate Produced Energy and Capacity Factor\n",
    "In this part we calculate three quantities to be analysed as a funciton of the time:\n",
    "\n",
    "- The **Average Energy** can be calculated from the average Active Power (P_avg, in kW)\n",
    "- The **Produced Energy** is the integral over time of the average energy\n",
    "- The **Capacity Factor** is the ratio of the real power output and nominal rated power"
   ]
  },
  {
   "cell_type": "code",
   "execution_count": null,
   "id": "ba41cf5d-8658-4655-ae16-791ab2d9d270",
   "metadata": {},
   "outputs": [],
   "source": [
    "df['E_avg'] = df['P_avg'] / 6000 # from kW to MWh\n",
    "\n",
    "P_nom = 2050 # kW | nominal power\n",
    "df['CF_avg'] = df['P_avg'] / P_nom \n",
    "\n",
    "monthly_df = pd.DataFrame(df.groupby(['Year', 'Month'])[['P_avg', 'E_avg', 'CF_avg']].apply(lambda x : x.sum()))\n",
    "monthly_df.reset_index(inplace=True)"
   ]
  },
  {
   "cell_type": "code",
   "execution_count": null,
   "id": "677d5a7f-15d2-499c-bc06-a165f4de8232",
   "metadata": {},
   "outputs": [],
   "source": [
    "from windml.visualization import custom_plots\n",
    "\n",
    "custom_plots.plot_monthly_evolution(monthly_df, value_col='P_avg')\n",
    "custom_plots.plot_monthly_evolution(monthly_df, value_col='E_avg')\n",
    "custom_plots.plot_monthly_evolution(monthly_df, value_col='CF_avg')\n"
   ]
  },
  {
   "cell_type": "markdown",
   "id": "d6bcc53c-da7f-4b90-bfc2-ad81cdd54bf1",
   "metadata": {},
   "source": [
    "### 2.2 Auto Regression Forecast"
   ]
  },
  {
   "cell_type": "code",
   "execution_count": null,
   "id": "ad3fa281-f036-434f-9150-5fe7fcdd9cf4",
   "metadata": {},
   "outputs": [],
   "source": [
    "from windml.machine_learning.time_analysis import ar_forecast\n",
    "import numpy as np\n",
    "from sklearn.metrics import mean_absolute_error\n",
    "\n",
    "xx = np.linspace(1,10)\n",
    "# Plotting\n",
    "plt.figure(figsize=(10, 6))\n",
    "\n",
    "for lags in [5, 10, 20]:\n",
    "    \n",
    "    forecast_df = ar_forecast(monthly_df, 'E_avg', lags=lags)\n",
    "    merged_df = pd.merge(monthly_df, forecast_df, on=['Year', 'Month'], how='inner')\n",
    "    \n",
    "    plt.scatter(merged_df['E_avg'], merged_df['pred_E_avg'], alpha=0.5, label=f'{lags} lags')\n",
    "    mae = mean_absolute_error(merged_df['E_avg'], merged_df['pred_E_avg'])\n",
    "    print(f\"Mean Absolute Error (MAE): {mae}\")\n",
    "    \n",
    "plt.plot(xx, xx)\n",
    "plt.title('Scatter Plot of Actual vs Predicted Values')\n",
    "plt.xlabel('Actual Values')\n",
    "plt.ylabel('Predicted Values')\n",
    "plt.legend()\n",
    "plt.grid(True)\n",
    "plt.show()\n"
   ]
  },
  {
   "cell_type": "code",
   "execution_count": null,
   "id": "c53980a8-4ee5-4520-842b-abf80c237254",
   "metadata": {},
   "outputs": [],
   "source": [
    "import matplotlib.pyplot as plt\n",
    "import pandas as pd\n",
    "import numpy as np\n",
    "\n"
   ]
  },
  {
   "cell_type": "code",
   "execution_count": null,
   "id": "7ddc669f-5d38-4399-a878-a7bbed04c281",
   "metadata": {},
   "outputs": [],
   "source": [
    "(merged_df['E_avg'] - merged_df['pred_E_avg']).sum()"
   ]
  },
  {
   "cell_type": "code",
   "execution_count": null,
   "id": "aacdd3c0-7a00-4e8b-8452-3883622f52a7",
   "metadata": {},
   "outputs": [],
   "source": [
    "# Distribution of wind_speed\n",
    "fig, ax = plt.subplots( 1, 2, figsize=(10, 5) )\n",
    "\n",
    "sns.histplot(\n",
    "    df.wind_speed, \n",
    "    kde=True, \n",
    "    color='skyblue',\n",
    "    ax=ax[0])\n",
    "ax[1].plot(df.wind_speed, '+', ls='')"
   ]
  },
  {
   "cell_type": "markdown",
   "id": "9a7c84b7-9e3a-421f-a7e4-b34a4abd9edd",
   "metadata": {},
   "source": [
    "# PART 3: Machine Learning"
   ]
  },
  {
   "cell_type": "markdown",
   "id": "098cfb21-0e98-426e-9ceb-d09fa598529e",
   "metadata": {},
   "source": [
    "# Rotor RPM \n",
    "\n",
    "- The Rotor RPM is an important factor in a wind turbine’s power output \n",
    "- The rotor is sometimes connected to a gearbox to convert a relatively low rotor rpm to a high rpm useful for power generation. \n",
    "- The figure below shows the relationship between rotor rpm and Power\n",
    "- Positively correlated"
   ]
  },
  {
   "cell_type": "code",
   "execution_count": null,
   "id": "b4f980ec-e5db-4835-a456-9289dfb12aa5",
   "metadata": {},
   "outputs": [],
   "source": []
  },
  {
   "cell_type": "code",
   "execution_count": null,
   "id": "eaab97c0-7c10-41ab-b58c-26bc0531b1d9",
   "metadata": {},
   "outputs": [],
   "source": [
    "# Rotor RPM \n",
    "# Rs_avg\n",
    "\n",
    "\n",
    "fig, ax = plt.subplots( 1, 2, figsize=(10, 5) )\n",
    "\n",
    "sns.histplot(\n",
    "    df.Rs_avg, \n",
    "    kde=True, \n",
    "    color='skyblue',\n",
    "    ax=ax[0])\n",
    "\n",
    "ax[1].plot(df.Rs_avg, df.Q_avg, '+', ls='')\n",
    "ax[1].set_ylabel('Q_avg')\n",
    "ax[1].set_xlabel('Rs_avg (rpm)')\n"
   ]
  },
  {
   "cell_type": "markdown",
   "id": "27c91c1d-6b91-4310-bbbf-cf3074ae78ba",
   "metadata": {},
   "source": [
    "# Pitch Angle\n",
    "\n",
    "- When the wind speed and power output become high, the turbine control system pitches (turns) the rotor blades out of the wind\n",
    "- Under extreme conditions, the pitch angle is utilized to minimize or stall the power production of a wind turbine\n",
    "- The plot below depicts the relationship between each blade pitch angle and Active Power\n",
    "- Negative correlation"
   ]
  },
  {
   "cell_type": "code",
   "execution_count": null,
   "id": "c4e1a76e-8bc4-43ef-aeca-00229d256d54",
   "metadata": {},
   "outputs": [],
   "source": [
    "fig, ax = plt.subplots( 1, 2, figsize=(10, 5) )\n",
    "\n",
    "sns.histplot(\n",
    "    df.Ba_avg, \n",
    "    kde=True, \n",
    "    color='skyblue',\n",
    "    ax=ax[0])\n",
    "\n",
    "ax[1].plot(df.Ba_avg, df.Q_avg, '+', ls='')\n",
    "ax[1].set_ylabel('Q_avg')\n",
    "ax[1].set_xlabel('Ba_avg (deg)')\n"
   ]
  },
  {
   "cell_type": "code",
   "execution_count": null,
   "id": "e295a50c-6243-46d0-9ee5-e6cf17aaefe1",
   "metadata": {},
   "outputs": [],
   "source": []
  },
  {
   "cell_type": "code",
   "execution_count": null,
   "id": "9030d4c7-b020-422c-a7d7-fc16aaff8e47",
   "metadata": {},
   "outputs": [],
   "source": [
    "# Distribution of Power\n",
    "sns.histplot(df.Q_avg, kde=True, color='skyblue').set_title('Distribution of Q_avg')"
   ]
  },
  {
   "cell_type": "markdown",
   "id": "959e6510-a2ba-481e-8bf9-3229e4c2b5bf",
   "metadata": {},
   "source": [
    "# Test for normality on positive Q values\n",
    "The KS Statistic in the Kolmogorov-Smirnov (K-S) test measures the maximum distance between the empirical cumulative distribution function (ECDF) of the sample data and the cumulative distribution function (CDF) of the reference distribution (in this case, a normal distribution). Essentially, it quantifies the largest discrepancy between the observed distribution of your sample data and the expected distribution if the null hypothesis were true.\n",
    "\n",
    "## Result\n",
    "\n",
    "Q_avg - KS Statistic: 0.9731, P-value: 0.0000 \n",
    "\n",
    "A large KS Statistic value suggests a significant deviation between the sample distribution and the reference distribution.\n",
    "\n",
    "A p-value significantly less than 0.05 leads to reject the null hypothesis: the data do not come from a normal distribution. \n"
   ]
  },
  {
   "cell_type": "code",
   "execution_count": null,
   "id": "eb543e1f-fb8d-4565-b9e9-41daa64fafd7",
   "metadata": {},
   "outputs": [],
   "source": [
    "import math\n",
    "from scipy.stats import kstest\n",
    "\n",
    "# Select postitive values\n",
    "positive_Q_val = df.loc[ df.Q_avg > 0 ].Q_avg.values\n",
    "\n",
    "# Perform the Kolmogorov-Smirnov test for normality on the uniformly distributed data\n",
    "ks_statistic, p_value = kstest(positive_Q_val, 'norm')\n",
    "\n",
    "print(f\"Q_avg - KS Statistic: {ks_statistic:.4f}, P-value: {p_value:.4f}\")"
   ]
  },
  {
   "cell_type": "markdown",
   "id": "4514814b-c186-47c2-bfc3-a5e4adcaa037",
   "metadata": {},
   "source": [
    "# MULTIVARIATE ANALYSIS"
   ]
  },
  {
   "cell_type": "code",
   "execution_count": null,
   "id": "6082f966-513d-4cb0-b8d2-251f363cf9f0",
   "metadata": {},
   "outputs": [],
   "source": [
    "# WIND-POWER curve\n",
    "\n",
    "sns.scatterplot(\n",
    "    x=df.wind_speed,\n",
    "    y=df.Q_avg, \n",
    "    alpha=0.05)"
   ]
  },
  {
   "cell_type": "markdown",
   "id": "b401d9cd-43b3-4d66-b9b3-f85eb8b9b2cd",
   "metadata": {},
   "source": [
    "# ROSE WIND analysis\n",
    "\n",
    "- Most wind comes in from the S-W direction\n",
    "- Stronger wind comes in form the S-W direction"
   ]
  },
  {
   "cell_type": "code",
   "execution_count": null,
   "id": "67487a2d-a994-4e98-8b06-8bc78fdfe87c",
   "metadata": {},
   "outputs": [],
   "source": [
    "from windrose import WindroseAxes\n",
    "from matplotlib import pyplot as plt\n",
    "import matplotlib.cm as cm\n",
    "import numpy as np\n",
    "\n",
    "# Create wind speed and direction variables\n",
    "\n",
    "ax = WindroseAxes.from_ax()\n",
    "ax.contourf(\n",
    "    df.Wa_avg, \n",
    "    df.wind_speed, \n",
    "    normed=True,\n",
    "    bins=np.arange(0, 20), \n",
    "    cmap=cm.hot)\n",
    "ax.set_legend()\n"
   ]
  },
  {
   "cell_type": "markdown",
   "id": "b5380890-ddae-46f9-ad1d-bb282d4c830c",
   "metadata": {},
   "source": [
    "# Feature Correlation and Selection\n",
    "\n",
    "- Most wind comes in from the S-W direction\n",
    "- Stronger wind comes in form the S-W direction"
   ]
  },
  {
   "cell_type": "code",
   "execution_count": null,
   "id": "ba342dc8-6b3f-4be5-9e86-8ecf1a3dabbe",
   "metadata": {},
   "outputs": [],
   "source": [
    "correlation_matrix = df.corr()\n",
    "sns.heatmap(correlation_matrix, cmap=\"YlGnBu\") "
   ]
  },
  {
   "cell_type": "code",
   "execution_count": null,
   "id": "300c7cc9-d626-4057-a6a9-698abdf27973",
   "metadata": {},
   "outputs": [],
   "source": [
    "# Check highest correlated variables\n",
    "\n",
    "correlation_matrix['Q_avg'].sort_values()\n",
    "\n",
    "correlation_threshold = 0.5\n",
    "\n",
    "most_correlated_variables = correlation_matrix.loc[ \n",
    "     ( correlation_matrix['Q_avg'] < -correlation_threshold )\n",
    "   | ( correlation_matrix['Q_avg'] > correlation_threshold )\n",
    "    ]['Q_avg'].index.to_list()\n",
    "\n",
    "most_correlated_variables.remove('Q_avg')\n",
    "most_correlated_variables"
   ]
  },
  {
   "cell_type": "markdown",
   "id": "4971bb59-3526-43d2-b978-4988f3b97dc5",
   "metadata": {},
   "source": [
    "# MACHINE LEARNING\n",
    "\n",
    "Output of the turbine: \n",
    "- rotor torque\n",
    "- converter torque\n",
    "- power output"
   ]
  },
  {
   "cell_type": "code",
   "execution_count": null,
   "id": "2fd85dd7-8a73-4f0d-b51f-f4104fd35c91",
   "metadata": {},
   "outputs": [],
   "source": [
    "scoring = 'neg_mean_squared_error'\n",
    "scoring = 'neg_mean_absolute_error'"
   ]
  },
  {
   "cell_type": "code",
   "execution_count": null,
   "id": "487a7119-2465-42f1-930e-02189c7c09d0",
   "metadata": {},
   "outputs": [],
   "source": [
    "# Separating the target variable 'y' and features 'X'\n",
    "\n",
    "#X = df.drop('Q_avg', axis=1) # take all but Q_avg\n",
    "X = df[most_correlated_variables] # take most correlated variables\n",
    "y = df['Q_avg'].values.reshape(-1, 1)\n",
    "\n",
    "# Split the dataset into training and testing sets (20% test size)\n",
    "X_train, X_test, y_train, y_test = train_test_split(X, y, test_size=0.2, random_state=42)"
   ]
  },
  {
   "cell_type": "markdown",
   "id": "a1cd5afd-0a6f-4628-982b-fa84e6f0e9d9",
   "metadata": {},
   "source": [
    "# KERNEL RIDGE REGRESSION\n",
    "\n",
    "- Define the 'laplacian' kernel: a custom kernel based on L1 distance\n",
    "\n",
    "### Laplacian (L1) vs Gaussian (L2 or RBF) Kernel\n",
    "The Gaussian or RBF kernel is defined as:\n",
    "$$ K_{L1}(x, x') = \\exp\\left(-\\gamma \\|x - x'\\|\\right) $$\n",
    "$$ K_{L2}(x, x') = \\exp\\left(-\\gamma \\|x - x'\\|^2\\right) $$\n",
    "\n",
    "- Create a pipeline including scaling and kernel\n",
    "- define a parameter grid to optimize alpha and gamma and kernel\n",
    "\n",
    "### \n",
    "### Kernel Ridge Regression (KRR)\n",
    "Kernel Ridge Regression combines Ridge Regression (linear least squares with L2-norm regularization) with the kernel trick. The objective function for KRR is:\n",
    "\n",
    "$$ \\min_{w} \\|Xw - y\\|^2 + \\alpha \\|w\\|^2 $$\n",
    "\n",
    "Where:\n",
    "- $X$ is the matrix of input features.\n",
    "- $w$ is the vector of coefficients.\n",
    "- $y$ is the vector of target values.\n",
    "- $\\alpha$ is the regularization parameter.\n",
    "\n",
    "The kernel trick transforms the input space into a higher-dimensional space using a kernel function $K$, allowing for the learning of non-linear relationships. The KRR model in this higher-dimensional space is given by:\n",
    "\n",
    "$$ f(x) = \\sum_{i=1}^{n} \\alpha_i K(x, x_i) $$\n",
    "\n",
    "Where:\n",
    "- $K(x, x_i)$ is the kernel function evaluating the similarity between the input vector $x$ and a training example $x_i$.\n",
    "- $\\alpha_i$ are the coefficients solved for in the dual space, not to be confused with the regularization parameter.\n",
    "- $\\alpha$ (regularization parameter) controls the amount of regularization and helps prevent overfitting by penalizing large values of $\\alpha_i$.\n",
    "- $\\gamma$ is a parameter of certain kernels (e.g., the RBF kernel), controlling the shape of the kernel function and thus the decision boundary.\n",
    "\n",
    "For the RBF kernel, often used in KRR, the kernel function is defined as:\n",
    "$$ K(x, x') = \\exp\\left(-\\gamma \\|x - x'\\|^2\\right) $$\n",
    "\n",
    "The use of $\\gamma$ in the RBF kernel controls the spread of the kernel and influences the model's capacity to handle the data's complexity and noise.\n"
   ]
  },
  {
   "cell_type": "code",
   "execution_count": null,
   "id": "fa388011-7fb0-4303-a7a5-87ea3e40e598",
   "metadata": {},
   "outputs": [],
   "source": []
  },
  {
   "cell_type": "code",
   "execution_count": null,
   "id": "444a86ab-79ed-4fa5-bdd0-8f1e0bde6295",
   "metadata": {},
   "outputs": [],
   "source": []
  },
  {
   "cell_type": "code",
   "execution_count": null,
   "id": "334bac00-9ce5-46b1-9db8-64c11abc9ca5",
   "metadata": {},
   "outputs": [],
   "source": [
    "# Example usage\n",
    "#X = df.drop('Q_avg', axis=1) # take all but Q_avg\n",
    "X = df[most_correlated_variables] # take most correlated variables\n",
    "y = df['Q_avg'] #.values.reshape(-1, 1)\n",
    "\n",
    "\n",
    "model = LinearRegression()\n",
    "param_grid = {\n",
    "    'fit_intercept': [True, False],\n",
    "}\n",
    "\n",
    "# Generate learning curve data with GridSearchCV\n",
    "learning_curve_data = create_learning_curve_with_grid_search(X, y, model, param_grid, num_points=5)\n",
    "\n",
    "# Plotting the learning curve\n",
    "plot_learning_curve(learning_curve_data)\n"
   ]
  },
  {
   "cell_type": "code",
   "execution_count": null,
   "id": "6f1d3654-afff-471e-a7a9-774b585f0ac9",
   "metadata": {},
   "outputs": [],
   "source": [
    "from sklearn.linear_model import Ridge\n",
    "\n",
    "\n",
    "model_poly = Pipeline([\n",
    "    ('poly', PolynomialFeatures()),\n",
    "    ('ridge', Ridge())\n",
    "])\n",
    "\n",
    "param_grid_poly = {\n",
    "    'poly__degree': [2, 3, 4],  # Exploring polynomials of degree 2, 3, and 4\n",
    "    'ridge__alpha': [0.01, 0.1, 1, 10]  # Regularization strength\n",
    "}\n",
    "\n",
    "\n",
    "# Generate learning curve data with GridSearchCV\n",
    "learning_curve_data = create_learning_curve_with_grid_search(X, y, model_poly, param_grid_poly, num_points=5)\n",
    "\n",
    "# Plotting the learning curve\n",
    "plot_learning_curve(learning_curve_data)\n"
   ]
  },
  {
   "cell_type": "code",
   "execution_count": null,
   "id": "0cbb3de2-4414-40eb-8c50-8da5e9c7cc52",
   "metadata": {},
   "outputs": [],
   "source": [
    "from sklearn.kernel_ridge import KernelRidge\n",
    "\n",
    "model_krr = KernelRidge()\n",
    "\n",
    "param_grid_krr = {\n",
    "    'alpha': [0.1, 1, 10],  # Regularization strength\n",
    "    'kernel': ['linear', 'poly', 'rbf'],  # Type of kernel to use\n",
    "    'gamma': [0.01, 0.1, 1],  # Kernel coefficient for 'rbf' and 'poly'\n",
    "    'degree': [2, 3]  # Degree for the 'poly' kernel\n",
    "}\n",
    "\n",
    "# Generate learning curve data with GridSearchCV\n",
    "learning_curve_data = create_learning_curve_with_grid_search(X, y, model_krr, param_grid_krr, num_points=5)\n",
    "\n",
    "# Plotting the learning curve\n",
    "plot_learning_curve(learning_curve_data)\n"
   ]
  },
  {
   "cell_type": "code",
   "execution_count": null,
   "id": "dd61c4cd-16b9-43c8-bf6c-462c5cf18695",
   "metadata": {},
   "outputs": [],
   "source": [
    "from sklearn.ensemble import RandomForestRegressor\n",
    "\n",
    "model_rf = RandomForestRegressor()\n",
    "\n",
    "param_grid_rf = {\n",
    "    'n_estimators': [10, 50, 100, 200],  # Number of trees in the forest\n",
    "    'max_depth': [None, 10, 20, 30],  # Maximum depth of the trees\n",
    "    'min_samples_split': [2, 5, 10]  # Minimum number of samples required to split an internal node\n",
    "}\n",
    "\n",
    "# Generate learning curve data with GridSearchCV\n",
    "learning_curve_data = create_learning_curve_with_grid_search(X, y, model_rf, param_grid_rf, num_points=5)\n",
    "\n",
    "# Plotting the learning curve\n",
    "plot_learning_curve(learning_curve_data)\n"
   ]
  },
  {
   "cell_type": "code",
   "execution_count": null,
   "id": "5159a4bb-4e56-44a0-9599-6e4c3b81a018",
   "metadata": {},
   "outputs": [],
   "source": []
  }
 ],
 "metadata": {
  "kernelspec": {
   "display_name": "Python 3 (ipykernel)",
   "language": "python",
   "name": "python3"
  },
  "language_info": {
   "codemirror_mode": {
    "name": "ipython",
    "version": 3
   },
   "file_extension": ".py",
   "mimetype": "text/x-python",
   "name": "python",
   "nbconvert_exporter": "python",
   "pygments_lexer": "ipython3",
   "version": "3.10.13"
  }
 },
 "nbformat": 4,
 "nbformat_minor": 5
}
