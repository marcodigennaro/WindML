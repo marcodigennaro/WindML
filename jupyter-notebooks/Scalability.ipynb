{
 "cells": [
  {
   "cell_type": "markdown",
   "id": "a42d1963-5698-4de9-a199-a92dc5a67de3",
   "metadata": {},
   "source": [
    "# Scalability\n",
    "\n",
    "### Check 4 different python packages\n",
    "\n",
    "In the context large datasets, the need to check the scalability of our solutions is imperative.\n",
    "\n",
    "Although `pandas` is the easiest most powerful tool out there, it struggles with performance issues when dealing with very large datasets that do not fit into memory.\n",
    "\n",
    "Here's some alternatives:\n",
    "\n",
    "- **Pandas** is excellent for datasets that fit comfortably in memory, providing rich functionality for data manipulation and analysis\n",
    "- **Dask** scales pandas workflows to larger datasets by parallelizing operations and working with data that doesn’t fit into a single machine’s memory. It does this by breaking the dataset into chunks and processing these chunks in parallel across multiple threads or machines\n",
    "- **Vaex** uses memory mapping, efficient algorithms, and lazy evaluations to handle very large datasets (> 1e$^9$ rows) effectively without the need to load the entire dataset into memory. It's particularly good for out-of-core computations and streaming data to create visualizations and statistical summaries\n",
    "- **Modin** aims to speed up pandas operations by using parallel and distributed computing transparently.\n",
    "\n",
    "The results shown below compare these different packages (results obtained on a MacOS with a 3,1 GHz Dual-Core Intel Core i5 with Memory: 8 GB 2133 MHz)\n",
    "\n",
    "| File       | Size (MB) |\n",
    "|------------|-----------|\n",
    "| R80736.csv | 49.30     |\n",
    "| R80721.csv | 48.49     |\n",
    "| R80790.csv | 48.55     |\n",
    "| R80711.csv | 48.85     |\n",
    "\n",
    "| Library | Time taken (sec) | Max memory usage (MB) |\n",
    "|---------|------------------|-----------------------|\n",
    "| pandas  | 6.13             | 735.23 MB             |\n",
    "| dask    | 18.38            | 603.20 MB             |\n",
    "| vaex    | 3.11             | 268.40 MB             |\n",
    "| modin   | 11.60            | 245.38 MB             |\n",
    "\n",
    "**Conclusion**:\n",
    "  - Time Efficiency: `vaex` and `pandas` show best results,\n",
    "  - Memory Efficiency: `modin` and `vaex` show best results,\n",
    "  - Given the ease of use, I will use `pandas` for this tutorial.\n",
    "    "
   ]
  },
  {
   "cell_type": "code",
   "execution_count": 1,
   "id": "cabfad46-63a3-457d-9774-1e1ccdfabe72",
   "metadata": {
    "execution": {
     "iopub.execute_input": "2024-04-19T15:16:45.306130Z",
     "iopub.status.busy": "2024-04-19T15:16:45.305759Z",
     "iopub.status.idle": "2024-04-19T15:17:07.476607Z",
     "shell.execute_reply": "2024-04-19T15:17:07.472241Z",
     "shell.execute_reply.started": "2024-04-19T15:16:45.306100Z"
    },
    "scrolled": true
   },
   "outputs": [
    {
     "name": "stdout",
     "output_type": "stream",
     "text": [
      "Found 4 CSV files.\n",
      "File: R80711.csv, Size: 49.30 MB\n",
      "File: R80790.csv, Size: 48.49 MB\n",
      "File: R80721.csv, Size: 48.55 MB\n",
      "File: R80736.csv, Size: 48.85 MB\n",
      "Library: pandas, Time taken: 5.46 seconds, Max memory usage: 664.48 MB\n",
      "Library: dask, Time taken: 8.04 seconds, Max memory usage: 556.34 MB\n",
      "Library: vaex, Time taken: 1.68 seconds, Max memory usage: 318.00 MB\n",
      "Library: modin, Time taken: 4.46 seconds, Max memory usage: 299.65 MB\n"
     ]
    }
   ],
   "source": [
    "from pathlib import Path\n",
    "data_dir = Path.cwd().parent / 'windml' / 'data'\n",
    "from windml.core.functions import compare_data_libraries\n",
    "\n",
    "compare_data_libraries(data_dir)"
   ]
  },
  {
   "cell_type": "code",
   "execution_count": null,
   "id": "5c6b2e35-1d2a-4512-af03-203d9c197420",
   "metadata": {},
   "outputs": [],
   "source": []
  }
 ],
 "metadata": {
  "kernelspec": {
   "display_name": "Python 3 (ipykernel)",
   "language": "python",
   "name": "python3"
  },
  "language_info": {
   "codemirror_mode": {
    "name": "ipython",
    "version": 3
   },
   "file_extension": ".py",
   "mimetype": "text/x-python",
   "name": "python",
   "nbconvert_exporter": "python",
   "pygments_lexer": "ipython3",
   "version": "3.10.12"
  }
 },
 "nbformat": 4,
 "nbformat_minor": 5
}
